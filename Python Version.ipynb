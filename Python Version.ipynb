{
 "cells": [
  {
   "cell_type": "code",
   "execution_count": 9,
   "metadata": {},
   "outputs": [
    {
     "name": "stdout",
     "output_type": "stream",
     "text": [
      "python version\n",
      "3.7.4 (default, Aug  9 2019, 18:34:13) [MSC v.1915 64 bit (AMD64)]\n"
     ]
    }
   ],
   "source": [
    "#Find Version\n",
    "\n",
    "import sys\n",
    "\n",
    "print(\"python version\")\n",
    "print(sys.version)"
   ]
  },
  {
   "cell_type": "code",
   "execution_count": 14,
   "metadata": {},
   "outputs": [
    {
     "name": "stdout",
     "output_type": "stream",
     "text": [
      "Date and Time\n",
      "2019-10-31 19:29:20;\n"
     ]
    }
   ],
   "source": [
    "#Current Date and Time\n",
    "\n",
    "\n",
    "import datetime\n",
    "\n",
    "now = datetime.datetime.now()\n",
    "print(\"Date and Time\")\n",
    "print(now.strftime(\"%Y-%m-%d %H:%M:%S;\"))\n"
   ]
  },
  {
   "cell_type": "code",
   "execution_count": 19,
   "metadata": {},
   "outputs": [
    {
     "name": "stdout",
     "output_type": "stream",
     "text": [
      "enter first nameAvais\n",
      "enter second nameYaqoob\n",
      "Yaqoob Avais\n"
     ]
    }
   ],
   "source": [
    "#Take Names and Print in Reverse\n",
    "\n",
    "fname = input(\"enter first name\")\n",
    "sname = input(\"enter second name\")\n",
    "\n",
    "print(sname + \" \" + fname)"
   ]
  },
  {
   "cell_type": "code",
   "execution_count": 20,
   "metadata": {},
   "outputs": [
    {
     "name": "stdout",
     "output_type": "stream",
     "text": [
      "Enter First value23\n",
      "Enter Second value4\n",
      "27\n"
     ]
    }
   ],
   "source": [
    "# Input Two value and Addition\n",
    "\n",
    "First_No = int(input(\"Enter First value\"))\n",
    "Second_No = int(input(\"Enter Second value\"))\n",
    "\n",
    "print(First_No + Second_No)"
   ]
  },
  {
   "cell_type": "code",
   "execution_count": null,
   "metadata": {},
   "outputs": [],
   "source": []
  }
 ],
 "metadata": {
  "kernelspec": {
   "display_name": "Python 3",
   "language": "python",
   "name": "python3"
  },
  "language_info": {
   "codemirror_mode": {
    "name": "ipython",
    "version": 3
   },
   "file_extension": ".py",
   "mimetype": "text/x-python",
   "name": "python",
   "nbconvert_exporter": "python",
   "pygments_lexer": "ipython3",
   "version": "3.7.4"
  }
 },
 "nbformat": 4,
 "nbformat_minor": 2
}
