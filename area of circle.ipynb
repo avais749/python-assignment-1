{
 "cells": [
  {
   "cell_type": "code",
   "execution_count": 7,
   "metadata": {},
   "outputs": [
    {
     "name": "stdout",
     "output_type": "stream",
     "text": [
      "Input Radius Of Circle2.2\n",
      "Your Entered No is 2.2 and the area of circle is 15.205308443374602\n"
     ]
    }
   ],
   "source": [
    "#circle radius\n",
    "\n",
    "\n",
    "from math import pi\n",
    "r = float(input(\"Input Radius Of Circle\"))\n",
    "print(f\"Your Entered No is {r} and the area of circle is {pi * r**2}\")"
   ]
  },
  {
   "cell_type": "code",
   "execution_count": null,
   "metadata": {},
   "outputs": [],
   "source": []
  }
 ],
 "metadata": {
  "kernelspec": {
   "display_name": "Python 3",
   "language": "python",
   "name": "python3"
  },
  "language_info": {
   "codemirror_mode": {
    "name": "ipython",
    "version": 3
   },
   "file_extension": ".py",
   "mimetype": "text/x-python",
   "name": "python",
   "nbconvert_exporter": "python",
   "pygments_lexer": "ipython3",
   "version": "3.7.4"
  }
 },
 "nbformat": 4,
 "nbformat_minor": 2
}
